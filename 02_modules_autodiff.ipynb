{
 "cells": [
  {
   "cell_type": "markdown",
   "metadata": {},
   "source": [
    "## 2. PyTorch modules and automatic differentiation\n",
    "\n",
    "PyTorch provides the users with an extensive set of modules and functions for machine learning.\n",
    "The basis of the modules is the `torch.nn.Module` base class, which provides a basic blueprint for a functioning of a neural network layer.\n",
    "The basic idea is that each component of the model should be a subclass of `Module` (including the model itself).\n",
    "With the inheritance from `Module` come attributes and method which allow PyTorch to seamlessly handle the model and its parameters.\n",
    "\n",
    "For instance, the method `parameters()` returns an iterator over the parameters of the model, which can be used to update the parameters during the training.\n",
    "It is one of the basic methods defined by `Module`.\n",
    "To fetch the parameters of the model, PyTorch can recursively call the `parameters()` for each submodule."
   ]
  },
  {
   "cell_type": "code",
   "execution_count": null,
   "metadata": {},
   "outputs": [],
   "source": [
    "import torch\n",
    "from torch import nn"
   ]
  },
  {
   "cell_type": "markdown",
   "metadata": {},
   "source": [
    "The most basic block is the linear layer, which defines an affine transformation of the input.\n",
    "\n",
    "`Linear` is characterized by:\n",
    "- `in_features` - the number of input features\n",
    "- `out_features` - the number of output features\n",
    "- `bias` - an optional boolean flag indicating whether to include a bias term\n",
    "\n",
    "$$\\text{output} = W\\cdot\\text{input} + b$$\n",
    "\n",
    "The linear layer is created as an **instance of the `torch.nn.Linear` class**.\n",
    "Thus, we first instantiate it, then we can use it as a function to transform input tensors."
   ]
  },
  {
   "cell_type": "code",
   "execution_count": null,
   "metadata": {},
   "outputs": [],
   "source": [
    "lin = torch.nn.Linear(\n",
    "    in_features=10,\n",
    "    out_features=1,\n",
    "    bias=True\n",
    ")\n",
    "\n",
    "lin"
   ]
  },
  {
   "cell_type": "markdown",
   "metadata": {},
   "source": [
    "We can see its parameters by calling the `weight` and `bias` attributes, or by calling the `parameters()` method (or even better, the `named_parameters()`)"
   ]
  },
  {
   "cell_type": "code",
   "execution_count": null,
   "metadata": {},
   "outputs": [],
   "source": [
    "print(lin.weight, \"\\n\", lin.bias)\n",
    "\n",
    "print(\"------------------\")\n",
    "for name, param in lin.named_parameters():\n",
    "    print(name, \":\", param.size())\n",
    "    print(param)\n",
    "    print(\"\\n\")"
   ]
  },
  {
   "cell_type": "markdown",
   "metadata": {},
   "source": [
    "**Take note of the `requires_grad` attribute of the parameters.\n",
    "We'll discuss it later.**"
   ]
  },
  {
   "cell_type": "code",
   "execution_count": null,
   "metadata": {},
   "outputs": [],
   "source": [
    "x = torch.linspace(0.1,1,10)\n",
    "print(x)\n",
    "print(\"------------------\")\n",
    "y = lin(x)\n",
    "y"
   ]
  },
  {
   "cell_type": "markdown",
   "metadata": {},
   "source": [
    "**Take note of the `grad_fn=<AddBackward0>` attribute of the output tensor.\n",
    "We'll discuss it later.**"
   ]
  },
  {
   "cell_type": "markdown",
   "metadata": {},
   "source": [
    "**Question:**\n",
    "\n",
    "What is the Python pattern that allows us to call an object as a function?\n",
    "\n",
    "```python\n",
    "o = MyObject(...)\n",
    "o(x) # calling an instance of MyObject as a function\n",
    "```"
   ]
  },
  {
   "cell_type": "markdown",
   "metadata": {},
   "source": [
    "*your answer here*"
   ]
  },
  {
   "cell_type": "markdown",
   "metadata": {},
   "source": [
    "For supporting the basic operations of the layer, PyTorch provides a set of functions in the `torch.nn.functional` module.\n",
    "\n",
    "The affine transformation is implemented as the `torch.nn.functional.linear` function."
   ]
  },
  {
   "cell_type": "code",
   "execution_count": null,
   "metadata": {},
   "outputs": [],
   "source": [
    "nn.functional.linear(x, lin.weight, lin.bias)"
   ]
  },
  {
   "cell_type": "markdown",
   "metadata": {},
   "source": [
    "**Question:**\n",
    "\n",
    "Why don't we use the `torch.nn.functional.linear` function directly instead of defining a layer and calling it as a function?"
   ]
  },
  {
   "cell_type": "markdown",
   "metadata": {},
   "source": [
    "*your answer here*"
   ]
  },
  {
   "cell_type": "markdown",
   "metadata": {},
   "source": [
    "### Automatic differentiation\n",
    "\n",
    "The two weird names we saw before are related to the way Python keeps track of the operations performed on the tensors. \n",
    "Each time we perform an operation on a tensor, PyTorch keeps track of the operation in a **computational graph**.\n",
    "\n",
    "![](img/compgraph.png)\n",
    "\n",
    "The `grad_fn=<AddBackward0>` we observed on `y` makes explicit reference to the last operation performed to obtain `y` itself.\n",
    "\n",
    "Under the hood, PyTorch defines the tools to compute the backward pass on this function, i.e., the derivative of the summation.\n",
    "\n",
    "**Notice: unless you want to define exotic new computations, you'll never need to define the backward behavior of a function: PyTorch does everything by itself by combining the various building blocks it's provided with**\n",
    "\n",
    "We can prompt PyTorch to compute the gradients for each of the tensors involved in the computation by calling `backward()` on `y`:"
   ]
  },
  {
   "cell_type": "code",
   "execution_count": null,
   "metadata": {},
   "outputs": [],
   "source": [
    "y.backward()"
   ]
  },
  {
   "cell_type": "markdown",
   "metadata": {},
   "source": [
    "We can now probe the gradients by calling `.grad` on the tensors involved in the computation:"
   ]
  },
  {
   "cell_type": "code",
   "execution_count": null,
   "metadata": {},
   "outputs": [],
   "source": [
    "print(lin.weight.grad)\n",
    "\n",
    "print(lin.bias.grad)\n",
    "\n",
    "print(x.grad)"
   ]
  },
  {
   "cell_type": "markdown",
   "metadata": {},
   "source": [
    "**Question:**\n",
    "\n",
    "Why is `x.grad` `None`?\n",
    "\n",
    "The answer has to do with the second name, `requires_grad`.\n",
    "If a tensor does not require gradients, PyTorch will not compute them.\n",
    "\n",
    "We can force `x` to require gradients. Notice the change:"
   ]
  },
  {
   "cell_type": "code",
   "execution_count": null,
   "metadata": {},
   "outputs": [],
   "source": [
    "x.requires_grad = True\n",
    "y = lin(x)\n",
    "y.backward()\n",
    "print(x.grad)"
   ]
  },
  {
   "cell_type": "markdown",
   "metadata": {},
   "source": [
    "Notice another thing. Let's multiply two random tensors:"
   ]
  },
  {
   "cell_type": "code",
   "execution_count": null,
   "metadata": {},
   "outputs": [],
   "source": [
    "t1 = torch.rand(2, 3, 4)\n",
    "t2 = torch.randn(2, 3, 4)\n",
    "t3 = t1 * t2\n",
    "t3"
   ]
  },
  {
   "cell_type": "markdown",
   "metadata": {},
   "source": [
    "**Question:**\n",
    "\n",
    "Why does not `t3` have the `grad_fn` attribute?"
   ]
  },
  {
   "cell_type": "markdown",
   "metadata": {},
   "source": [
    "*Your answer here*"
   ]
  },
  {
   "cell_type": "markdown",
   "metadata": {},
   "source": [
    "### Our first neural network\n",
    "\n",
    "A regular Multilayer Perceptron (MLP) is defined as a sequence of linear layers with non-linearity in between.\n",
    "\n",
    "The classical way of building MLPs in PyTorch is by defining a class that inherits from `torch.nn.Module` and instantiates the layers in the constructor.\n",
    "\n",
    "Let's define a simple MLP with two hidden layers and a ReLU activation function.\n",
    "\n",
    "The two basic things to remember when you're defining a new `Module` are:\n",
    "\n",
    "* The constructor should call the constructor of the parent class (**this allows the instantiation of the important attribute and methods mentioned before**)\n",
    "* You should define the `forward` method, which describes how the input is transformed into the output."
   ]
  },
  {
   "cell_type": "code",
   "execution_count": null,
   "metadata": {},
   "outputs": [],
   "source": [
    "class MyMLP(nn.Module):\n",
    "    def __init__(self):\n",
    "        super().__init__()\n",
    "        self.fc1 = nn.Linear(10, 5)\n",
    "        self.batch_norm = nn.BatchNorm1d(5)\n",
    "        self.fc2 = nn.Linear(5, 3)\n",
    "\n",
    "    def forward(self, x):\n",
    "        x = self.fc1(x)\n",
    "        x = nn.functional.relu(x)\n",
    "        x = self.batch_norm(x)\n",
    "        x = self.fc2(x)\n",
    "        return x\n",
    "\n",
    "mlp = MyMLP()\n",
    "mlp"
   ]
  },
  {
   "cell_type": "markdown",
   "metadata": {},
   "source": [
    "We can already try to call this model on a random vector of size 10"
   ]
  },
  {
   "cell_type": "code",
   "execution_count": null,
   "metadata": {},
   "outputs": [],
   "source": [
    "mlp(torch.rand(10))"
   ]
  },
  {
   "cell_type": "markdown",
   "metadata": {},
   "source": [
    "This error is because PyTorch already expects the input to come in batches.\n",
    "\n",
    "In case of MLP, the expected shape is $B \\times D$, where $B$ is the batch size and $D$ is the number of features."
   ]
  },
  {
   "cell_type": "code",
   "execution_count": null,
   "metadata": {},
   "outputs": [],
   "source": [
    "out = mlp(torch.rand(4, 10)) # batch size of 4\n",
    "print(out, \"\\n\", out.size())"
   ]
  },
  {
   "cell_type": "markdown",
   "metadata": {},
   "source": [
    "If a model is composed of sequential layers and the information is not split into multiple branches, you can use the `torch.nn.Sequential` class, which allows you to define the model as a sequence of layers."
   ]
  },
  {
   "cell_type": "code",
   "execution_count": null,
   "metadata": {},
   "outputs": [],
   "source": [
    "mlp = nn.Sequential(\n",
    "    nn.Linear(10, 5),\n",
    "    nn.ReLU(), # careful about the relu, we must pass `nn.Module`s here, not functions\n",
    "    nn.BatchNorm1d(5),\n",
    "    nn.Linear(5, 3)\n",
    ")\n",
    "\n",
    "out = mlp(torch.rand(4, 10))\n",
    "out"
   ]
  }
 ],
 "metadata": {
  "kernelspec": {
   "display_name": "torch",
   "language": "python",
   "name": "python3"
  },
  "language_info": {
   "codemirror_mode": {
    "name": "ipython",
    "version": 3
   },
   "file_extension": ".py",
   "mimetype": "text/x-python",
   "name": "python",
   "nbconvert_exporter": "python",
   "pygments_lexer": "ipython3",
   "version": "3.11.3"
  }
 },
 "nbformat": 4,
 "nbformat_minor": 2
}
